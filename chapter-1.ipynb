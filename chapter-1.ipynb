{
 "cells": [
  {
   "cell_type": "markdown",
   "metadata": {},
   "source": [
    "# Chapter 1"
   ]
  },
  {
   "cell_type": "code",
   "execution_count": 1,
   "metadata": {},
   "outputs": [],
   "source": [
    "import numpy as np\n",
    "import matplotlib.pyplot as plt"
   ]
  },
  {
   "cell_type": "markdown",
   "metadata": {},
   "source": [
    "## 1.1\n",
    "### 1.1.a"
   ]
  },
  {
   "cell_type": "markdown",
   "metadata": {},
   "source": [
    "According to the law of total probability (LOTP) the marginal density of *y* is defined as the weighted average of the conditional densities:\n",
    "$$p(y) = \\sum_{\\theta}{p(y|\\theta) * p(\\theta)}$$\n",
    "In the present examples with two possible values for theta, this is\n",
    "$$p(y) = p(y|\\theta_1)*p(\\theta_1)+p(y|\\theta_2)*p(\\theta_2)$$\n",
    "Since both are normal and the thetas a equally likely unconditionally, the equation takes the following form:\n",
    "$$p(y) = \\frac{1}{2}*(\\mathcal{N}(y|0, 2^2) + \\mathcal{N}(y|1, 2^2))$$"
   ]
  },
  {
   "cell_type": "code",
   "execution_count": null,
   "metadata": {},
   "outputs": [],
   "source": [
    "prior = np.array([.5, .5]) # prior on thetas\n",
    "mus = [0, 1]\n",
    "x = np.linspace(-4, 4)"
   ]
  }
 ],
 "metadata": {
  "kernelspec": {
   "display_name": "Python [conda env:bda3] *",
   "language": "python",
   "name": "conda-env-bda3-py"
  },
  "language_info": {
   "codemirror_mode": {
    "name": "ipython",
    "version": 3
   },
   "file_extension": ".py",
   "mimetype": "text/x-python",
   "name": "python",
   "nbconvert_exporter": "python",
   "pygments_lexer": "ipython3",
   "version": "3.8.5"
  }
 },
 "nbformat": 4,
 "nbformat_minor": 4
}
