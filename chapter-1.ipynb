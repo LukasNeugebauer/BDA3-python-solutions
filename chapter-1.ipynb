{
 "cells": [
  {
   "cell_type": "markdown",
   "metadata": {},
   "source": [
    "# Chapter 1"
   ]
  },
  {
   "cell_type": "code",
   "execution_count": 6,
   "metadata": {},
   "outputs": [],
   "source": [
    "import numpy as np\n",
    "import matplotlib.pyplot as plt"
   ]
  },
  {
   "cell_type": "markdown",
   "metadata": {},
   "source": [
    "## 1.1\n",
    "### 1.1.a"
   ]
  },
  {
   "cell_type": "markdown",
   "metadata": {},
   "source": [
    "According to the law of total probability (LOTP) the marginal density of *y* is defined as the weighted average of the conditional densities:\n",
    "$$p(y) = \\sum_{\\theta}{p(y|\\theta) * p(\\theta)}$$\n",
    "In the present examples with two possible values for theta, this is\n",
    "$$p(y) = p(y|\\theta_1)*p(\\theta_1)+p(y|\\theta_2)*p(\\theta_2)$$\n",
    "Since both are normal and the thetas a equally likely unconditionally, the equation takes the following form:\n",
    "$$p(y) = \\frac{1}{2}*(\\mathcal{N}(y|0, 2^2) + \\mathcal{N}(y|1, 2^2))$$"
   ]
  },
  {
   "cell_type": "code",
   "execution_count": 1,
   "metadata": {},
   "outputs": [
    {
     "ename": "NameError",
     "evalue": "name 'np' is not defined",
     "output_type": "error",
     "traceback": [
      "\u001b[0;31m---------------------------------------------------------------------------\u001b[0m",
      "\u001b[0;31mNameError\u001b[0m                                 Traceback (most recent call last)",
      "\u001b[0;32m<ipython-input-1-db8215c79e56>\u001b[0m in \u001b[0;36m<module>\u001b[0;34m\u001b[0m\n\u001b[0;32m----> 1\u001b[0;31m \u001b[0mprior\u001b[0m \u001b[0;34m=\u001b[0m \u001b[0mnp\u001b[0m\u001b[0;34m.\u001b[0m\u001b[0marray\u001b[0m\u001b[0;34m(\u001b[0m\u001b[0;34m[\u001b[0m\u001b[0;36m.5\u001b[0m\u001b[0;34m,\u001b[0m \u001b[0;36m.5\u001b[0m\u001b[0;34m]\u001b[0m\u001b[0;34m)\u001b[0m \u001b[0;31m# prior on thetas\u001b[0m\u001b[0;34m\u001b[0m\u001b[0;34m\u001b[0m\u001b[0m\n\u001b[0m\u001b[1;32m      2\u001b[0m \u001b[0mmus\u001b[0m \u001b[0;34m=\u001b[0m \u001b[0;34m[\u001b[0m\u001b[0;36m0\u001b[0m\u001b[0;34m,\u001b[0m \u001b[0;36m1\u001b[0m\u001b[0;34m]\u001b[0m\u001b[0;34m\u001b[0m\u001b[0;34m\u001b[0m\u001b[0m\n\u001b[1;32m      3\u001b[0m \u001b[0mx\u001b[0m \u001b[0;34m=\u001b[0m \u001b[0mnp\u001b[0m\u001b[0;34m.\u001b[0m\u001b[0mlinspace\u001b[0m\u001b[0;34m(\u001b[0m\u001b[0;34m-\u001b[0m\u001b[0;36m4\u001b[0m\u001b[0;34m,\u001b[0m \u001b[0;36m4\u001b[0m\u001b[0;34m)\u001b[0m\u001b[0;34m\u001b[0m\u001b[0;34m\u001b[0m\u001b[0m\n",
      "\u001b[0;31mNameError\u001b[0m: name 'np' is not defined"
     ]
    }
   ],
   "source": [
    "prior = np.array([.5, .5]) # prior on thetas\n",
    "mus = [0, 1]\n",
    "x = np.linspace(-4, 4)"
   ]
  },
  {
   "cell_type": "markdown",
   "metadata": {},
   "source": [
    "## Exercise 9:\n",
    "\n",
    "## Simulate subjects"
   ]
  },
  {
   "cell_type": "code",
   "execution_count": 44,
   "metadata": {},
   "outputs": [],
   "source": [
    "def simulate_subs():\n",
    "    t_max = 420\n",
    "    subs = []\n",
    "    t = 0\n",
    "    while True:\n",
    "        sub = t + np.random.exponential(10)\n",
    "        if sub > t_max:\n",
    "            break\n",
    "        subs.append(sub)\n",
    "        t = sub\n",
    "    n_subs = len(subs)\n",
    "    return subs, n_subs"
   ]
  },
  {
   "cell_type": "markdown",
   "metadata": {},
   "source": [
    "## Simulate doctors"
   ]
  },
  {
   "cell_type": "code",
   "execution_count": 85,
   "metadata": {},
   "outputs": [],
   "source": [
    "def simulate_docs(subs):\n",
    "    doc_t = np.zeros(3)\n",
    "    wt = []\n",
    "    for s in subs:\n",
    "        duration = np.random.uniform(5, 20)\n",
    "        if any(doc_t < s):\n",
    "            wt.append(0)\n",
    "            doc_t[np.argmin(doc_t)] = s + duration\n",
    "        else:\n",
    "            wt.append(doc_t.min() - s)\n",
    "            doc_t[np.argmin(doc_t)] += duration\n",
    "    wt_nonzero  = np.array([x for x in wt if not x == 0])\n",
    "    avg_wait = wt_nonzero.mean() if len(wt_nonzero) > 0 else 0\n",
    "    n_hadtowait = wt_nonzero.size\n",
    "    closing_delay = np.max([0, doc_t.max() - 420])\n",
    "    return n_hadtowait, avg_wait, closing_delay"
   ]
  },
  {
   "cell_type": "code",
   "execution_count": 57,
   "metadata": {},
   "outputs": [],
   "source": [
    "from tqdm import tqdm\n",
    "import time"
   ]
  },
  {
   "cell_type": "code",
   "execution_count": 92,
   "metadata": {},
   "outputs": [
    {
     "name": "stderr",
     "output_type": "stream",
     "text": [
      "100%|██████████| 10000/10000 [00:07<00:00, 1415.45it/s]\n"
     ]
    }
   ],
   "source": [
    "runs = 10000\n",
    "n_subs, n_hadtowait, avg_wait, closing_delay = [\n",
    "    np.empty(shape=(runs,), dtype=np.float) for _ in range(4)\n",
    "]\n",
    "for r in tqdm(range(runs)):\n",
    "    subs, n_subs[r] = simulate_subs()\n",
    "    n_hadtowait[r], avg_wait[r], closing_delay[r] = simulate_docs(subs)"
   ]
  },
  {
   "cell_type": "code",
   "execution_count": 93,
   "metadata": {},
   "outputs": [],
   "source": [
    "def get_stats(data):\n",
    "    return [np.percentile(data, x) for x in [25, 50, 75]]"
   ]
  },
  {
   "cell_type": "code",
   "execution_count": 94,
   "metadata": {},
   "outputs": [
    {
     "name": "stdout",
     "output_type": "stream",
     "text": [
      "Number of subjects: 38.00, 42.00, 46.00\n",
      "Average waiting time: 2.54, 3.77, 5.09\n",
      "Number of waiting: 3.00, 5.00, 8.00\n",
      "Closing delay 0.00, 5.94, 11.34\n"
     ]
    }
   ],
   "source": [
    "print('Number of subjects: {:.2f}, {:.2f}, {:.2f}'.format(*get_stats(all_n_subs)))\n",
    "print('Average waiting time: {:.2f}, {:.2f}, {:.2f}'.format(*get_stats(all_avg_wait)))\n",
    "print('Number of waiting: {:.2f}, {:.2f}, {:.2f}'.format(*get_stats(all_n_hadtowait)))\n",
    "print('Closing delay {:.2f}, {:.2f}, {:.2f}'.format(*get_stats(all_closing_delay)))"
   ]
  },
  {
   "cell_type": "code",
   "execution_count": null,
   "metadata": {},
   "outputs": [],
   "source": []
  }
 ],
 "metadata": {
  "kernelspec": {
   "display_name": "Python 3",
   "language": "python",
   "name": "python3"
  },
  "language_info": {
   "codemirror_mode": {
    "name": "ipython",
    "version": 3
   },
   "file_extension": ".py",
   "mimetype": "text/x-python",
   "name": "python",
   "nbconvert_exporter": "python",
   "pygments_lexer": "ipython3",
   "version": "3.7.8"
  }
 },
 "nbformat": 4,
 "nbformat_minor": 4
}
